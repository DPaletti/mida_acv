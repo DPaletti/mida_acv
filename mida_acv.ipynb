{
  "nbformat": 4,
  "nbformat_minor": 0,
  "metadata": {
    "colab": {
      "name": "mida_acv.ipynb",
      "provenance": [],
      "collapsed_sections": [
        "Gy7bS0L91jmM",
        "MuESplwo2-eT",
        "7-bYB5m38gTK",
        "xsv6GEwg930O",
        "kLRlMgWB_-R_",
        "dkqpaGo1z4SY",
        "2FnNSDTJbIGF"
      ],
      "toc_visible": true,
      "machine_shape": "hm",
      "include_colab_link": true
    },
    "kernelspec": {
      "display_name": "Python 3",
      "language": "python",
      "name": "python3"
    },
    "language_info": {
      "codemirror_mode": {
        "name": "ipython",
        "version": 2
      },
      "file_extension": ".py",
      "mimetype": "text/x-python",
      "name": "python",
      "nbconvert_exporter": "python",
      "pygments_lexer": "ipython2",
      "version": "2.7.6"
    }
  },
  "cells": [
    {
      "cell_type": "markdown",
      "metadata": {
        "id": "view-in-github",
        "colab_type": "text"
      },
      "source": [
        "<a href=\"https://colab.research.google.com/github/DPaletti/mida_acv/blob/main/mida_acv.ipynb\" target=\"_parent\"><img src=\"https://colab.research.google.com/assets/colab-badge.svg\" alt=\"Open In Colab\"/></a>"
      ]
    },
    {
      "cell_type": "markdown",
      "metadata": {
        "collapsed": false,
        "id": "AecmabYVurev"
      },
      "source": [
        "# Sustainable Mobility: classification of electric scooter rides"
      ]
    },
    {
      "cell_type": "markdown",
      "metadata": {
        "id": "Gy7bS0L91jmM"
      },
      "source": [
        "## Get Data"
      ]
    },
    {
      "cell_type": "code",
      "metadata": {
        "colab": {
          "base_uri": "https://localhost:8080/"
        },
        "id": "MCbw2yn3urez",
        "outputId": "fca3f7f3-c65e-4a94-f3a1-5d8a771967cd"
      },
      "source": [
        "!git clone https://github.com/DPaletti/mida_acv\n",
        "!mv mida_acv/data .\n",
        "!yes|rm -r mida_acv"
      ],
      "execution_count": 1,
      "outputs": [
        {
          "output_type": "stream",
          "text": [
            "Cloning into 'mida_acv'...\n",
            "remote: Enumerating objects: 249, done.\u001b[K\n",
            "remote: Counting objects: 100% (54/54), done.\u001b[K\n",
            "remote: Compressing objects: 100% (49/49), done.\u001b[K\n",
            "remote: Total 249 (delta 6), reused 46 (delta 2), pack-reused 195\u001b[K\n",
            "Receiving objects: 100% (249/249), 250.21 MiB | 26.30 MiB/s, done.\n",
            "Resolving deltas: 100% (23/23), done.\n",
            "Checking out files: 100% (162/162), done.\n"
          ],
          "name": "stdout"
        }
      ]
    },
    {
      "cell_type": "markdown",
      "metadata": {
        "id": "ieNbtN1s2AQp"
      },
      "source": [
        "## Dependencies"
      ]
    },
    {
      "cell_type": "code",
      "metadata": {
        "colab": {
          "base_uri": "https://localhost:8080/",
          "height": 1000
        },
        "id": "XAlrODCD2DWm",
        "outputId": "359b3b52-b1d2-4ca3-b825-ad8c0d029037"
      },
      "source": [
        "!pip install tsfresh\n",
        "!pip install rdp\n",
        "!pip install plotly\n",
        "!pip install joblib\n",
        "!pip install sktime"
      ],
      "execution_count": 2,
      "outputs": [
        {
          "output_type": "stream",
          "text": [
            "Collecting tsfresh\n",
            "\u001b[?25l  Downloading https://files.pythonhosted.org/packages/22/7f/53e845c3e19078d15e228db642ad06d5a91207a66115cb4f30a2eca28f17/tsfresh-0.18.0-py2.py3-none-any.whl (94kB)\n",
            "\u001b[K     |████████████████████████████████| 102kB 4.5MB/s \n",
            "\u001b[?25hRequirement already satisfied: dask[dataframe]>=2.9.0 in /usr/local/lib/python3.7/dist-packages (from tsfresh) (2.12.0)\n",
            "Requirement already satisfied: statsmodels>=0.9.0 in /usr/local/lib/python3.7/dist-packages (from tsfresh) (0.10.2)\n",
            "Collecting distributed>=2.11.0\n",
            "\u001b[?25l  Downloading https://files.pythonhosted.org/packages/0c/b0/3454dc44239c526f9c9e4cf04f62823776b71f927db74302986d56e7a9a1/distributed-2021.4.0-py3-none-any.whl (684kB)\n",
            "\u001b[K     |████████████████████████████████| 686kB 11.0MB/s \n",
            "\u001b[?25hCollecting stumpy>=1.7.2\n",
            "\u001b[?25l  Downloading https://files.pythonhosted.org/packages/4c/da/8d372a1af518930ecb3ad9acc627115450149b613ba1b9b51b4d3721218e/stumpy-1.8.0-py3-none-any.whl (94kB)\n",
            "\u001b[K     |████████████████████████████████| 102kB 9.3MB/s \n",
            "\u001b[?25hRequirement already satisfied: scikit-learn>=0.22.0 in /usr/local/lib/python3.7/dist-packages (from tsfresh) (0.22.2.post1)\n",
            "Collecting matrixprofile>=1.1.10<2.0.0\n",
            "\u001b[?25l  Downloading https://files.pythonhosted.org/packages/b1/c3/43d282f0e5299f977b62e53e4dde22ddb14c90877af5b62af225fa783d8e/matrixprofile-1.1.10-cp37-cp37m-manylinux2010_x86_64.whl (1.1MB)\n",
            "\u001b[K     |████████████████████████████████| 1.1MB 49.6MB/s \n",
            "\u001b[?25hRequirement already satisfied: patsy>=0.4.1 in /usr/local/lib/python3.7/dist-packages (from tsfresh) (0.5.1)\n",
            "Requirement already satisfied: scipy>=1.2.0 in /usr/local/lib/python3.7/dist-packages (from tsfresh) (1.4.1)\n",
            "Requirement already satisfied: requests>=2.9.1 in /usr/local/lib/python3.7/dist-packages (from tsfresh) (2.23.0)\n",
            "Requirement already satisfied: pandas>=0.25.0 in /usr/local/lib/python3.7/dist-packages (from tsfresh) (1.1.5)\n",
            "Requirement already satisfied: numpy>=1.15.1 in /usr/local/lib/python3.7/dist-packages (from tsfresh) (1.19.5)\n",
            "Requirement already satisfied: tqdm>=4.10.0 in /usr/local/lib/python3.7/dist-packages (from tsfresh) (4.41.1)\n",
            "Collecting fsspec>=0.6.0; extra == \"dataframe\"\n",
            "\u001b[?25l  Downloading https://files.pythonhosted.org/packages/e9/91/2ef649137816850fa4f4c97c6f2eabb1a79bf0aa2c8ed198e387e373455e/fsspec-2021.4.0-py3-none-any.whl (108kB)\n",
            "\u001b[K     |████████████████████████████████| 112kB 56.5MB/s \n",
            "\u001b[?25hRequirement already satisfied: toolz>=0.7.3; extra == \"dataframe\" in /usr/local/lib/python3.7/dist-packages (from dask[dataframe]>=2.9.0->tsfresh) (0.11.1)\n",
            "Collecting partd>=0.3.10; extra == \"dataframe\"\n",
            "  Downloading https://files.pythonhosted.org/packages/41/94/360258a68b55f47859d72b2d0b2b3cfe0ca4fbbcb81b78812bd00ae86b7c/partd-1.2.0-py3-none-any.whl\n",
            "Requirement already satisfied: zict>=0.1.3 in /usr/local/lib/python3.7/dist-packages (from distributed>=2.11.0->tsfresh) (2.0.0)\n",
            "Requirement already satisfied: tblib>=1.6.0 in /usr/local/lib/python3.7/dist-packages (from distributed>=2.11.0->tsfresh) (1.7.0)\n",
            "Requirement already satisfied: tornado>=5; python_version < \"3.8\" in /usr/local/lib/python3.7/dist-packages (from distributed>=2.11.0->tsfresh) (5.1.1)\n",
            "Requirement already satisfied: click>=6.6 in /usr/local/lib/python3.7/dist-packages (from distributed>=2.11.0->tsfresh) (7.1.2)\n",
            "Requirement already satisfied: pyyaml in /usr/local/lib/python3.7/dist-packages (from distributed>=2.11.0->tsfresh) (3.13)\n",
            "Requirement already satisfied: sortedcontainers!=2.0.0,!=2.0.1 in /usr/local/lib/python3.7/dist-packages (from distributed>=2.11.0->tsfresh) (2.3.0)\n",
            "Collecting cloudpickle>=1.5.0\n",
            "  Downloading https://files.pythonhosted.org/packages/e7/e3/898487e5dbeb612054cf2e0c188463acb358167fef749c53c8bb8918cea1/cloudpickle-1.6.0-py3-none-any.whl\n",
            "Requirement already satisfied: setuptools in /usr/local/lib/python3.7/dist-packages (from distributed>=2.11.0->tsfresh) (54.2.0)\n",
            "Requirement already satisfied: msgpack>=0.6.0 in /usr/local/lib/python3.7/dist-packages (from distributed>=2.11.0->tsfresh) (1.0.2)\n",
            "Requirement already satisfied: psutil>=5.0 in /usr/local/lib/python3.7/dist-packages (from distributed>=2.11.0->tsfresh) (5.4.8)\n",
            "Requirement already satisfied: numba>=0.48 in /usr/local/lib/python3.7/dist-packages (from stumpy>=1.7.2->tsfresh) (0.51.2)\n",
            "Requirement already satisfied: joblib>=0.11 in /usr/local/lib/python3.7/dist-packages (from scikit-learn>=0.22.0->tsfresh) (1.0.1)\n",
            "Collecting protobuf==3.11.2\n",
            "\u001b[?25l  Downloading https://files.pythonhosted.org/packages/4a/14/f5c294f1e36a031f165128c25feba93b3116f15a74398d0b2747ed75744f/protobuf-3.11.2-cp37-cp37m-manylinux1_x86_64.whl (1.3MB)\n",
            "\u001b[K     |████████████████████████████████| 1.3MB 41.5MB/s \n",
            "\u001b[?25hRequirement already satisfied: matplotlib>=3.0.3 in /usr/local/lib/python3.7/dist-packages (from matrixprofile>=1.1.10<2.0.0->tsfresh) (3.2.2)\n",
            "Requirement already satisfied: six in /usr/local/lib/python3.7/dist-packages (from patsy>=0.4.1->tsfresh) (1.15.0)\n",
            "Requirement already satisfied: chardet<4,>=3.0.2 in /usr/local/lib/python3.7/dist-packages (from requests>=2.9.1->tsfresh) (3.0.4)\n",
            "Requirement already satisfied: certifi>=2017.4.17 in /usr/local/lib/python3.7/dist-packages (from requests>=2.9.1->tsfresh) (2020.12.5)\n",
            "Requirement already satisfied: idna<3,>=2.5 in /usr/local/lib/python3.7/dist-packages (from requests>=2.9.1->tsfresh) (2.10)\n",
            "Requirement already satisfied: urllib3!=1.25.0,!=1.25.1,<1.26,>=1.21.1 in /usr/local/lib/python3.7/dist-packages (from requests>=2.9.1->tsfresh) (1.24.3)\n",
            "Requirement already satisfied: pytz>=2017.2 in /usr/local/lib/python3.7/dist-packages (from pandas>=0.25.0->tsfresh) (2018.9)\n",
            "Requirement already satisfied: python-dateutil>=2.7.3 in /usr/local/lib/python3.7/dist-packages (from pandas>=0.25.0->tsfresh) (2.8.1)\n",
            "Collecting locket\n",
            "  Downloading https://files.pythonhosted.org/packages/50/b8/e789e45b9b9c2db75e9d9e6ceb022c8d1d7e49b2c085ce8c05600f90a96b/locket-0.2.1-py2.py3-none-any.whl\n",
            "Requirement already satisfied: heapdict in /usr/local/lib/python3.7/dist-packages (from zict>=0.1.3->distributed>=2.11.0->tsfresh) (1.0.1)\n",
            "Requirement already satisfied: llvmlite<0.35,>=0.34.0.dev0 in /usr/local/lib/python3.7/dist-packages (from numba>=0.48->stumpy>=1.7.2->tsfresh) (0.34.0)\n",
            "Requirement already satisfied: pyparsing!=2.0.4,!=2.1.2,!=2.1.6,>=2.0.1 in /usr/local/lib/python3.7/dist-packages (from matplotlib>=3.0.3->matrixprofile>=1.1.10<2.0.0->tsfresh) (2.4.7)\n",
            "Requirement already satisfied: kiwisolver>=1.0.1 in /usr/local/lib/python3.7/dist-packages (from matplotlib>=3.0.3->matrixprofile>=1.1.10<2.0.0->tsfresh) (1.3.1)\n",
            "Requirement already satisfied: cycler>=0.10 in /usr/local/lib/python3.7/dist-packages (from matplotlib>=3.0.3->matrixprofile>=1.1.10<2.0.0->tsfresh) (0.10.0)\n",
            "\u001b[31mERROR: googleapis-common-protos 1.53.0 has requirement protobuf>=3.12.0, but you'll have protobuf 3.11.2 which is incompatible.\u001b[0m\n",
            "\u001b[31mERROR: google-api-core 1.26.3 has requirement protobuf>=3.12.0, but you'll have protobuf 3.11.2 which is incompatible.\u001b[0m\n",
            "\u001b[31mERROR: distributed 2021.4.0 has requirement dask>=2021.03.0, but you'll have dask 2.12.0 which is incompatible.\u001b[0m\n",
            "\u001b[31mERROR: stumpy 1.8.0 has requirement scipy>=1.5, but you'll have scipy 1.4.1 which is incompatible.\u001b[0m\n",
            "Installing collected packages: cloudpickle, distributed, stumpy, protobuf, matrixprofile, tsfresh, fsspec, locket, partd\n",
            "  Found existing installation: cloudpickle 1.3.0\n",
            "    Uninstalling cloudpickle-1.3.0:\n",
            "      Successfully uninstalled cloudpickle-1.3.0\n",
            "  Found existing installation: distributed 1.25.3\n",
            "    Uninstalling distributed-1.25.3:\n",
            "      Successfully uninstalled distributed-1.25.3\n",
            "  Found existing installation: protobuf 3.12.4\n",
            "    Uninstalling protobuf-3.12.4:\n",
            "      Successfully uninstalled protobuf-3.12.4\n",
            "Successfully installed cloudpickle-1.6.0 distributed-2021.4.0 fsspec-2021.4.0 locket-0.2.1 matrixprofile-1.1.10 partd-1.2.0 protobuf-3.11.2 stumpy-1.8.0 tsfresh-0.18.0\n"
          ],
          "name": "stdout"
        },
        {
          "output_type": "display_data",
          "data": {
            "application/vnd.colab-display-data+json": {
              "pip_warning": {
                "packages": [
                  "google"
                ]
              }
            }
          },
          "metadata": {
            "tags": []
          }
        },
        {
          "output_type": "stream",
          "text": [
            "Collecting rdp\n",
            "  Downloading https://files.pythonhosted.org/packages/67/42/80a54cc4387256335c32b48bd42db80967ab5f40d6ffcd8167b3dd988c11/rdp-0.8.tar.gz\n",
            "Requirement already satisfied: numpy in /usr/local/lib/python3.7/dist-packages (from rdp) (1.19.5)\n",
            "Building wheels for collected packages: rdp\n",
            "  Building wheel for rdp (setup.py) ... \u001b[?25l\u001b[?25hdone\n",
            "  Created wheel for rdp: filename=rdp-0.8-cp37-none-any.whl size=4569 sha256=d7a5b95ca54277be3d2d3f893c75942f024e2b3a3d55949cfb572c81dcfcbd8d\n",
            "  Stored in directory: /root/.cache/pip/wheels/76/e4/02/c738593caece49c63180d093651bec3cd3b02ea3248f076f07\n",
            "Successfully built rdp\n",
            "Installing collected packages: rdp\n",
            "Successfully installed rdp-0.8\n",
            "Requirement already satisfied: plotly in /usr/local/lib/python3.7/dist-packages (4.4.1)\n",
            "Requirement already satisfied: retrying>=1.3.3 in /usr/local/lib/python3.7/dist-packages (from plotly) (1.3.3)\n",
            "Requirement already satisfied: six in /usr/local/lib/python3.7/dist-packages (from plotly) (1.15.0)\n",
            "Requirement already satisfied: joblib in /usr/local/lib/python3.7/dist-packages (1.0.1)\n",
            "Collecting sktime\n",
            "\u001b[?25l  Downloading https://files.pythonhosted.org/packages/ed/0b/ee4c2a9f2ef22eea4e202c4740142f3dfb8a3e5f9f1b36731b39b58ca432/sktime-0.6.0-cp37-cp37m-manylinux2014_x86_64.whl (5.7MB)\n",
            "\u001b[K     |████████████████████████████████| 5.7MB 4.5MB/s \n",
            "\u001b[?25hRequirement already satisfied: numba>=0.50 in /usr/local/lib/python3.7/dist-packages (from sktime) (0.51.2)\n",
            "Collecting statsmodels>=0.12.1\n",
            "\u001b[?25l  Downloading https://files.pythonhosted.org/packages/da/69/8eef30a6237c54f3c0b524140e2975f4b1eea3489b45eb3339574fc8acee/statsmodels-0.12.2-cp37-cp37m-manylinux1_x86_64.whl (9.5MB)\n",
            "\u001b[K     |████████████████████████████████| 9.5MB 39.8MB/s \n",
            "\u001b[?25hRequirement already satisfied: pandas>=1.1.0 in /usr/local/lib/python3.7/dist-packages (from sktime) (1.1.5)\n",
            "Collecting scikit-learn>=0.24.0\n",
            "\u001b[?25l  Downloading https://files.pythonhosted.org/packages/f3/74/eb899f41d55f957e2591cde5528e75871f817d9fb46d4732423ecaca736d/scikit_learn-0.24.1-cp37-cp37m-manylinux2010_x86_64.whl (22.3MB)\n",
            "\u001b[K     |████████████████████████████████| 22.3MB 1.2MB/s \n",
            "\u001b[?25hRequirement already satisfied: wheel in /usr/local/lib/python3.7/dist-packages (from sktime) (0.36.2)\n",
            "Requirement already satisfied: numpy>=1.19.0 in /usr/local/lib/python3.7/dist-packages (from sktime) (1.19.5)\n",
            "Requirement already satisfied: setuptools in /usr/local/lib/python3.7/dist-packages (from numba>=0.50->sktime) (54.2.0)\n",
            "Requirement already satisfied: llvmlite<0.35,>=0.34.0.dev0 in /usr/local/lib/python3.7/dist-packages (from numba>=0.50->sktime) (0.34.0)\n",
            "Requirement already satisfied: patsy>=0.5 in /usr/local/lib/python3.7/dist-packages (from statsmodels>=0.12.1->sktime) (0.5.1)\n",
            "Requirement already satisfied: scipy>=1.1 in /usr/local/lib/python3.7/dist-packages (from statsmodels>=0.12.1->sktime) (1.4.1)\n",
            "Requirement already satisfied: python-dateutil>=2.7.3 in /usr/local/lib/python3.7/dist-packages (from pandas>=1.1.0->sktime) (2.8.1)\n",
            "Requirement already satisfied: pytz>=2017.2 in /usr/local/lib/python3.7/dist-packages (from pandas>=1.1.0->sktime) (2018.9)\n",
            "Collecting threadpoolctl>=2.0.0\n",
            "  Downloading https://files.pythonhosted.org/packages/f7/12/ec3f2e203afa394a149911729357aa48affc59c20e2c1c8297a60f33f133/threadpoolctl-2.1.0-py3-none-any.whl\n",
            "Requirement already satisfied: joblib>=0.11 in /usr/local/lib/python3.7/dist-packages (from scikit-learn>=0.24.0->sktime) (1.0.1)\n",
            "Requirement already satisfied: six in /usr/local/lib/python3.7/dist-packages (from patsy>=0.5->statsmodels>=0.12.1->sktime) (1.15.0)\n",
            "Installing collected packages: statsmodels, threadpoolctl, scikit-learn, sktime\n",
            "  Found existing installation: statsmodels 0.10.2\n",
            "    Uninstalling statsmodels-0.10.2:\n",
            "      Successfully uninstalled statsmodels-0.10.2\n",
            "  Found existing installation: scikit-learn 0.22.2.post1\n",
            "    Uninstalling scikit-learn-0.22.2.post1:\n",
            "      Successfully uninstalled scikit-learn-0.22.2.post1\n",
            "Successfully installed scikit-learn-0.24.1 sktime-0.6.0 statsmodels-0.12.2 threadpoolctl-2.1.0\n"
          ],
          "name": "stdout"
        }
      ]
    },
    {
      "cell_type": "code",
      "metadata": {
        "id": "xV2MjmrG2HSv"
      },
      "source": [
        "# After installing tsfresh runtime needs to be restarted\n",
        "exit()"
      ],
      "execution_count": 3,
      "outputs": []
    },
    {
      "cell_type": "markdown",
      "metadata": {
        "id": "ckdclAM02OH4"
      },
      "source": [
        "## Imports"
      ]
    },
    {
      "cell_type": "code",
      "metadata": {
        "id": "RlA48MU22U1u"
      },
      "source": [
        "from typing import Tuple, List, Dict, Optional\n",
        "from tempfile import mkdtemp\n",
        "from pathlib import Path\n",
        "import multiprocessing\n",
        "import pandas as pd\n",
        "import tsfresh as ts\n",
        "import sklearn as sk\n",
        "import scipy as sp\n",
        "import numpy as np\n",
        "import plotly as plt\n",
        "import rdp\n",
        "import plotly.graph_objects as go\n",
        "import joblib\n",
        "import sklearn.pipeline\n",
        "import sklearn.preprocessing\n",
        "import sklearn.decomposition\n",
        "import sklearn.linear_model\n",
        "import sktime as skt\n",
        "import sktime.forecasting.model_selection\n",
        "import scipy.signal\n",
        "import tsfresh.feature_extraction\n",
        "from itertools import repeat\n",
        "from IPython.core.interactiveshell import InteractiveShell\n",
        "InteractiveShell.ast_node_interactivity = 'all'\n",
        "plt.io.renderers.default = 'iframe'"
      ],
      "execution_count": 57,
      "outputs": []
    },
    {
      "cell_type": "markdown",
      "metadata": {
        "id": "o-JnwG8QbhYZ"
      },
      "source": [
        "## Definitions"
      ]
    },
    {
      "cell_type": "markdown",
      "metadata": {
        "id": "tN6Zz--h2qUy"
      },
      "source": [
        "### Read data"
      ]
    },
    {
      "cell_type": "code",
      "metadata": {
        "id": "cle0PIgg2tOt"
      },
      "source": [
        "def read_data(data_path: str) -> Tuple[pd.DataFrame, pd.Series]:\n",
        "  X = pd.DataFrame()\n",
        "  y_weight=pd.Series(dtype=np.float64)\n",
        "  y_passengers=pd.Series(dtype=np.int64)\n",
        "  y_weight_deck=pd.Series(dtype=np.float64)\n",
        "  y_passengers_deck=pd.Series(dtype=np.int64)\n",
        "  y_weight_stem=pd.Series(dtype=np.float64)\n",
        "  y_passengers_stem=pd.Series(dtype=np.int64)\n",
        "  curr_X = pd.DataFrame()\n",
        "  i: int = 0\n",
        "  for placement in {\"deck\", \"stem\"}:\n",
        "      for driver_number in {\"single\", \"double\"}:\n",
        "          for ds in Path(data_path).joinpath(placement, driver_number).iterdir():\n",
        "              curr_X = pd.read_csv(str(ds))\n",
        "              curr_X = curr_X.assign(id=i)\n",
        "              curr_X = curr_X.assign(full_id=placement + \"-\" + driver_number + \"-\" + curr_X[\"Driver\"][0])\n",
        "              curr_X = curr_X.assign(IsDeck=0 if placement == \"deck\" else 1)\n",
        "              y_weight.at[i] = curr_X[\"Weight\"][0]\n",
        "              y_passengers.at[i] = 0 if driver_number==\"single\" else 1\n",
        "              if placement == \"deck\":\n",
        "                y_weight_deck.at[i] = curr_X[\"Weight\"][0]\n",
        "                y_passengers_deck.at[i] = 0 if driver_number==\"single\" else 1\n",
        "              else:\n",
        "                y_weight_stem.at[i] = curr_X[\"Weight\"][0]\n",
        "                y_passengers_stem.at[i] = 0 if driver_number==\"single\" else 1\n",
        "                \n",
        "\n",
        "              curr_X = curr_X.drop(\n",
        "                  [\"Unnamed: 0\", \"Driver\", \"Placement\", \"Weight\"], \n",
        "                  axis=1\n",
        "              )\n",
        "              X = X.append(curr_X)\n",
        "              i += 1\n",
        "  return (X.fillna(0),\n",
        "          X.fillna(0).groupby(\"id\").filter(lambda group: group[\"full_id\"][0].split(\"-\")[0] == \"deck\").drop(\"IsDeck\", axis=1), \n",
        "          X.fillna(0).groupby(\"id\").filter(lambda group: group[\"full_id\"][0].split(\"-\")[0] == \"stem\").drop(\"IsDeck\", axis=1), \n",
        "          y_weight.fillna(0), \n",
        "          y_passengers.fillna(0),\n",
        "          y_weight_deck.fillna(0),\n",
        "          y_passengers_deck.fillna(0),\n",
        "          y_weight_stem.fillna(0),\n",
        "          y_passengers_stem.fillna(0))\n"
      ],
      "execution_count": 34,
      "outputs": []
    },
    {
      "cell_type": "markdown",
      "metadata": {
        "id": "CFBJSPnJFFIY"
      },
      "source": [
        "### Align signals"
      ]
    },
    {
      "cell_type": "code",
      "metadata": {
        "id": "iNWrQw4wFG6S"
      },
      "source": [
        "def align_signal(signal_1: np.array, signal_2: np.array, col_name:str):\n",
        "  signal_1 = (signal_1 - np.mean(signal_1))/np.std(signal_1)\n",
        "  signal_2 = (signal_2 - np.mean(signal_2))/np.std(signal_2)\n",
        "  shift = np.argmax(np.convolve(signal_1[::-1],signal_2,mode='valid'))\n",
        "  return np.append([0]*shift, signal_2[shift: ]), col_name\n",
        "\n",
        "def align(X: pd.DataFrame):\n",
        "  out_X = pd.DataFrame(columns=X.columns)\n",
        "  columns_to_ignore = [\"full_id\", \"IsDeck\", \"Timestamp\", \"id\", \"Latitude\", \"Longitude\", \"Speed\", \"Confidence\"]\n",
        "  for ts in [x for _, x in X.groupby(\"id\").filter(lambda group: group[\"full_id\"][0].split(\"-\")[0]==\"deck\").groupby(\"id\")]:\n",
        "    full_id = ts[\"full_id\"][0].split(\"-\")\n",
        "    for ts_to_align in [x for _, x in X.groupby(\"id\").filter(lambda group: group[\"full_id\"][0].split(\"-\")[0]==\"stem\").groupby(\"id\")]:\n",
        "      full_id_to_align = ts_to_align[\"full_id\"][0].split(\"-\")\n",
        "      if full_id[1:] == full_id_to_align[1:]:\n",
        "        ts_signals = ts.drop(columns_to_ignore, axis=1)\n",
        "        ts_to_align_signals = ts_to_align.drop(columns_to_ignore, axis=1)\n",
        "        with multiprocessing.Pool(multiprocessing.cpu_count()) as p:\n",
        "          aligned_signals = (p.starmap(align_signal, \n",
        "                            [(ts_item[1], ts_to_align_item[1], ts_to_align_item[0])\n",
        "                            for ts_item, ts_to_align_item \n",
        "                            in zip(ts_signals.iteritems(), ts_to_align_signals.iteritems())]))\n",
        "        temp_ts = pd.DataFrame(columns=ts_to_align.columns)\n",
        "        temp_ts[columns_to_ignore] = ts_to_align[columns_to_ignore]\n",
        "        \n",
        "        for aligned_signal, col in aligned_signals:\n",
        "          temp_ts[col] = aligned_signal\n",
        "        out_X = out_X.append(ts)\n",
        "        out_X = out_X.append(temp_ts)\n",
        "  return out_X, y\n"
      ],
      "execution_count": null,
      "outputs": []
    },
    {
      "cell_type": "markdown",
      "metadata": {
        "id": "MuESplwo2-eT"
      },
      "source": [
        "### Path simplification"
      ]
    },
    {
      "cell_type": "code",
      "metadata": {
        "id": "s4gnCwrs3rXD"
      },
      "source": [
        "def get_path(X: pd.DataFrame) -> np.array:\n",
        "    out = []\n",
        "    for index, row in X.iterrows():\n",
        "        out.append((row[\"Latitude\"], row[\"Longitude\"]))\n",
        "    return np.array(out)\n",
        "\n",
        "def simplify_path(X: pd.DataFrame,epsilon: float = 1e-6):\n",
        "    if epsilon <= 0:\n",
        "      return X, y\n",
        "    out_df: pd.DataFrame = pd.DataFrame()\n",
        "    for df in [x for _, x in X.groupby([\"id\"])]:\n",
        "      print(\"Simplifying: \" + df[\"full_id\"][0])\n",
        "      df = df[rdp.rdp(get_path(df), epsilon=epsilon, return_mask=True)]\n",
        "      out_df = out_df.append(df)\n",
        "    return out_df"
      ],
      "execution_count": 63,
      "outputs": []
    },
    {
      "cell_type": "markdown",
      "metadata": {
        "id": "7-bYB5m38gTK"
      },
      "source": [
        "### Windowing"
      ]
    },
    {
      "cell_type": "code",
      "metadata": {
        "id": "mQmcXCu28mEM"
      },
      "source": [
        "def window(X: pd.DataFrame,\n",
        "           min_timeshift: int=0,\n",
        "           max_timeshift: Optional[int] = None) -> pd.DataFrame:\n",
        "  return ts.utilities.dataframe_functions.roll_time_series(\n",
        "        X,\n",
        "        column_id=\"id\",\n",
        "        column_sort=\"Timestamp\",\n",
        "        column_kind=None,\n",
        "        min_timeshift=min_timeshift,\n",
        "        max_timeshift=max_timeshift,\n",
        "        n_jobs=multiprocessing.cpu_count(),\n",
        "    ),\n"
      ],
      "execution_count": 45,
      "outputs": []
    },
    {
      "cell_type": "markdown",
      "metadata": {
        "id": "xsv6GEwg930O"
      },
      "source": [
        "### Feature Extraction"
      ]
    },
    {
      "cell_type": "code",
      "metadata": {
        "id": "fadneckj95-Z"
      },
      "source": [
        "def extract_features(X: pd.DataFrame):\n",
        "  return ts.extract_features(\n",
        "          X,\n",
        "          column_id=\"id\",\n",
        "          column_sort=\"Timestamp\",\n",
        "          n_jobs=multiprocessing.cpu_count(),\n",
        "          default_fc_parameters=ts.feature_extraction.MinimalFCParameters()\n",
        "      )"
      ],
      "execution_count": 42,
      "outputs": []
    },
    {
      "cell_type": "markdown",
      "metadata": {
        "id": "kLRlMgWB_-R_"
      },
      "source": [
        "### Feature Selection"
      ]
    },
    {
      "cell_type": "code",
      "metadata": {
        "id": "oJ07ehYrAHhL"
      },
      "source": [
        "def select_features(X: pd.DataFrame, y: pd.Series):\n",
        "  return ts.select_features(X, y)\n"
      ],
      "execution_count": 26,
      "outputs": []
    },
    {
      "cell_type": "markdown",
      "metadata": {
        "id": "dkqpaGo1z4SY"
      },
      "source": [
        "###Visualization"
      ]
    },
    {
      "cell_type": "code",
      "metadata": {
        "id": "nlUt2ZRK0xLd"
      },
      "source": [
        "def visualize_signal(\n",
        "    df: pd.DataFrame, signal: str, unit: str, label, *args: Tuple[pd.DataFrame, str]\n",
        "):\n",
        "    fig = go.Figure(\n",
        "        go.Scatter(\n",
        "            mode=\"markers+lines\",\n",
        "            x=df[\"Timestamp\"],\n",
        "            y=df[signal if signal not in {\"A\", \"G\", \"Jerk_\"} else signal + \"x\"],\n",
        "            marker={\"size\": 3},\n",
        "            name=label,\n",
        "        )\n",
        "    )\n",
        "\n",
        "    fig.update_layout(\n",
        "        xaxis={\"title\": \"Time (s)\"},\n",
        "        yaxis={\"title\": signal.replace(\"_\", \"\") + \" (\" + unit + \")\"},\n",
        "        width=1920,\n",
        "        height=1080,\n",
        "        font=dict(size=18),\n",
        "        template=\"plotly_white\",\n",
        "    )\n",
        "\n",
        "    if signal not in {\"A\", \"G\", \"Jerk_\"}:\n",
        "        for _df, _label in args:\n",
        "            fig.add_trace(\n",
        "                go.Scatter(\n",
        "                    mode=\"markers+lines\",\n",
        "                    x=_df[\"Timestamp\"],\n",
        "                    y=_df[signal],\n",
        "                    marker={\"size\": 3},\n",
        "                    name=_label,\n",
        "                )\n",
        "            )\n",
        "    else:\n",
        "        dfs: List[pd.DataFrame] = []\n",
        "        labels: List[str] = []\n",
        "        for t in args:\n",
        "            dfs.append(t[0])\n",
        "            labels.append(t[1])\n",
        "        for _df, _label, axis in zip(dfs, labels, [\"y\", \"z\"]):\n",
        "            fig.add_trace(\n",
        "                go.Scatter(\n",
        "                    mode=\"markers+lines\",\n",
        "                    x=_df[\"Timestamp\"],\n",
        "                    y=_df[\"Speed\" if signal == \"Speed\" else signal + axis],\n",
        "                    marker={\"size\": 3},\n",
        "                    name=_label,\n",
        "                )\n",
        "            )\n",
        "    return fig"
      ],
      "execution_count": null,
      "outputs": []
    },
    {
      "cell_type": "markdown",
      "metadata": {
        "id": "5L77MwDC-e0h"
      },
      "source": [
        "## Analysis"
      ]
    },
    {
      "cell_type": "markdown",
      "metadata": {
        "id": "T1BGhMlYazQg"
      },
      "source": [
        "### Data loading"
      ]
    },
    {
      "cell_type": "code",
      "metadata": {
        "id": "A0kFeSeha214"
      },
      "source": [
        "X, X_deck, X_stem, y_weight, y_passenger, y_weight_deck, y_passengers_deck, y_weight_stem, y_passengers_stem = read_data(\"./data/simplified_datasets_1e-06\")\n",
        "#X_aligned = align(X)"
      ],
      "execution_count": 65,
      "outputs": []
    },
    {
      "cell_type": "code",
      "metadata": {
        "colab": {
          "base_uri": "https://localhost:8080/"
        },
        "id": "hTZwDlFivpwv",
        "outputId": "a0f2e149-45e0-4757-db44-21feeaec0ce8"
      },
      "source": [
        "print(X_deck)"
      ],
      "execution_count": 67,
      "outputs": [
        {
          "output_type": "stream",
          "text": [
            "      Timestamp   Latitude  ...  id                         full_id\n",
            "0      0.000000  45.478461  ...   0     deck-double-Stefano_Jessica\n",
            "1     13.355769  45.478455  ...   0     deck-double-Stefano_Jessica\n",
            "2     16.182692  45.478448  ...   0     deck-double-Stefano_Jessica\n",
            "3     19.019231  45.478473  ...   0     deck-double-Stefano_Jessica\n",
            "4     19.942308  45.478479  ...   0     deck-double-Stefano_Jessica\n",
            "..          ...        ...  ...  ..                             ...\n",
            "342  449.711538  45.478353  ...  20   deck-single-Fosco_Cancelliere\n",
            "343  450.653846  45.478350  ...  20   deck-single-Fosco_Cancelliere\n",
            "344  524.096154  45.478342  ...  20   deck-single-Fosco_Cancelliere\n",
            "0      0.000000   0.000000  ...  21  deck-single-Luca_Franceschetti\n",
            "1    423.721154   0.000000  ...  21  deck-single-Luca_Franceschetti\n",
            "\n",
            "[6908 rows x 16 columns]\n"
          ],
          "name": "stdout"
        }
      ]
    },
    {
      "cell_type": "markdown",
      "metadata": {
        "id": "nfRMIBlrsIy-"
      },
      "source": [
        "### Path simplification"
      ]
    },
    {
      "cell_type": "code",
      "metadata": {
        "colab": {
          "base_uri": "https://localhost:8080/",
          "height": 648
        },
        "id": "6WlieS-1sLDM",
        "outputId": "f6233c80-fe7b-4155-9546-284068f68f13"
      },
      "source": [
        "X_deck_simplified = simplify_path(X_deck)"
      ],
      "execution_count": 64,
      "outputs": [
        {
          "output_type": "stream",
          "text": [
            "Simplifying: deck-double-Jessica_Alberto\n"
          ],
          "name": "stdout"
        },
        {
          "output_type": "stream",
          "text": [
            "Process ForkPoolWorker-104:\n",
            "Traceback (most recent call last):\n",
            "  File \"/usr/lib/python3.7/multiprocessing/process.py\", line 297, in _bootstrap\n",
            "    self.run()\n",
            "  File \"/usr/lib/python3.7/multiprocessing/process.py\", line 99, in run\n",
            "    self._target(*self._args, **self._kwargs)\n",
            "  File \"/usr/lib/python3.7/multiprocessing/pool.py\", line 110, in worker\n",
            "    task = get()\n",
            "  File \"/usr/lib/python3.7/multiprocessing/queues.py\", line 351, in get\n",
            "    with self._rlock:\n",
            "  File \"/usr/lib/python3.7/multiprocessing/synchronize.py\", line 95, in __enter__\n",
            "    return self._semlock.__enter__()\n",
            "KeyboardInterrupt\n"
          ],
          "name": "stderr"
        },
        {
          "output_type": "error",
          "ename": "KeyboardInterrupt",
          "evalue": "ignored",
          "traceback": [
            "\u001b[0;31m---------------------------------------------------------------------------\u001b[0m",
            "\u001b[0;31mKeyboardInterrupt\u001b[0m                         Traceback (most recent call last)",
            "\u001b[0;32m<ipython-input-64-c1144890025a>\u001b[0m in \u001b[0;36m<module>\u001b[0;34m()\u001b[0m\n\u001b[0;32m----> 1\u001b[0;31m \u001b[0mX_deck_simplified\u001b[0m \u001b[0;34m=\u001b[0m \u001b[0msimplify_path\u001b[0m\u001b[0;34m(\u001b[0m\u001b[0mX_deck\u001b[0m\u001b[0;34m)\u001b[0m\u001b[0;34m\u001b[0m\u001b[0;34m\u001b[0m\u001b[0m\n\u001b[0m",
            "\u001b[0;32m<ipython-input-63-ab235a7ce08a>\u001b[0m in \u001b[0;36msimplify_path\u001b[0;34m(X, epsilon)\u001b[0m\n\u001b[1;32m     11\u001b[0m     \u001b[0;32mfor\u001b[0m \u001b[0mdf\u001b[0m \u001b[0;32min\u001b[0m \u001b[0;34m[\u001b[0m\u001b[0mx\u001b[0m \u001b[0;32mfor\u001b[0m \u001b[0m_\u001b[0m\u001b[0;34m,\u001b[0m \u001b[0mx\u001b[0m \u001b[0;32min\u001b[0m \u001b[0mX\u001b[0m\u001b[0;34m.\u001b[0m\u001b[0mgroupby\u001b[0m\u001b[0;34m(\u001b[0m\u001b[0;34m[\u001b[0m\u001b[0;34m\"id\"\u001b[0m\u001b[0;34m]\u001b[0m\u001b[0;34m)\u001b[0m\u001b[0;34m]\u001b[0m\u001b[0;34m:\u001b[0m\u001b[0;34m\u001b[0m\u001b[0;34m\u001b[0m\u001b[0m\n\u001b[1;32m     12\u001b[0m       \u001b[0mprint\u001b[0m\u001b[0;34m(\u001b[0m\u001b[0;34m\"Simplifying: \"\u001b[0m \u001b[0;34m+\u001b[0m \u001b[0mdf\u001b[0m\u001b[0;34m[\u001b[0m\u001b[0;34m\"full_id\"\u001b[0m\u001b[0;34m]\u001b[0m\u001b[0;34m[\u001b[0m\u001b[0;36m0\u001b[0m\u001b[0;34m]\u001b[0m\u001b[0;34m)\u001b[0m\u001b[0;34m\u001b[0m\u001b[0;34m\u001b[0m\u001b[0m\n\u001b[0;32m---> 13\u001b[0;31m       \u001b[0mdf\u001b[0m \u001b[0;34m=\u001b[0m \u001b[0mdf\u001b[0m\u001b[0;34m[\u001b[0m\u001b[0mrdp\u001b[0m\u001b[0;34m.\u001b[0m\u001b[0mrdp\u001b[0m\u001b[0;34m(\u001b[0m\u001b[0mget_path\u001b[0m\u001b[0;34m(\u001b[0m\u001b[0mdf\u001b[0m\u001b[0;34m)\u001b[0m\u001b[0;34m,\u001b[0m \u001b[0mepsilon\u001b[0m\u001b[0;34m=\u001b[0m\u001b[0mepsilon\u001b[0m\u001b[0;34m,\u001b[0m \u001b[0mreturn_mask\u001b[0m\u001b[0;34m=\u001b[0m\u001b[0;32mTrue\u001b[0m\u001b[0;34m)\u001b[0m\u001b[0;34m]\u001b[0m\u001b[0;34m\u001b[0m\u001b[0;34m\u001b[0m\u001b[0m\n\u001b[0m\u001b[1;32m     14\u001b[0m       \u001b[0mout_df\u001b[0m \u001b[0;34m=\u001b[0m \u001b[0mout_df\u001b[0m\u001b[0;34m.\u001b[0m\u001b[0mappend\u001b[0m\u001b[0;34m(\u001b[0m\u001b[0mdf\u001b[0m\u001b[0;34m)\u001b[0m\u001b[0;34m\u001b[0m\u001b[0;34m\u001b[0m\u001b[0m\n\u001b[1;32m     15\u001b[0m     \u001b[0;32mreturn\u001b[0m \u001b[0mout_df\u001b[0m\u001b[0;34m\u001b[0m\u001b[0;34m\u001b[0m\u001b[0m\n",
            "\u001b[0;32m/usr/local/lib/python3.7/dist-packages/rdp/__init__.py\u001b[0m in \u001b[0;36mrdp\u001b[0;34m(M, epsilon, dist, algo, return_mask)\u001b[0m\n\u001b[1;32m    178\u001b[0m \u001b[0;34m\u001b[0m\u001b[0m\n\u001b[1;32m    179\u001b[0m     \u001b[0;32mif\u001b[0m \u001b[0;34m\"numpy\"\u001b[0m \u001b[0;32min\u001b[0m \u001b[0mstr\u001b[0m\u001b[0;34m(\u001b[0m\u001b[0mtype\u001b[0m\u001b[0;34m(\u001b[0m\u001b[0mM\u001b[0m\u001b[0;34m)\u001b[0m\u001b[0;34m)\u001b[0m\u001b[0;34m:\u001b[0m\u001b[0;34m\u001b[0m\u001b[0;34m\u001b[0m\u001b[0m\n\u001b[0;32m--> 180\u001b[0;31m         \u001b[0;32mreturn\u001b[0m \u001b[0malgo\u001b[0m\u001b[0;34m(\u001b[0m\u001b[0mM\u001b[0m\u001b[0;34m,\u001b[0m \u001b[0mepsilon\u001b[0m\u001b[0;34m,\u001b[0m \u001b[0mdist\u001b[0m\u001b[0;34m)\u001b[0m\u001b[0;34m\u001b[0m\u001b[0;34m\u001b[0m\u001b[0m\n\u001b[0m\u001b[1;32m    181\u001b[0m \u001b[0;34m\u001b[0m\u001b[0m\n\u001b[1;32m    182\u001b[0m     \u001b[0;32mreturn\u001b[0m \u001b[0malgo\u001b[0m\u001b[0;34m(\u001b[0m\u001b[0mnp\u001b[0m\u001b[0;34m.\u001b[0m\u001b[0marray\u001b[0m\u001b[0;34m(\u001b[0m\u001b[0mM\u001b[0m\u001b[0;34m)\u001b[0m\u001b[0;34m,\u001b[0m \u001b[0mepsilon\u001b[0m\u001b[0;34m,\u001b[0m \u001b[0mdist\u001b[0m\u001b[0;34m)\u001b[0m\u001b[0;34m.\u001b[0m\u001b[0mtolist\u001b[0m\u001b[0;34m(\u001b[0m\u001b[0;34m)\u001b[0m\u001b[0;34m\u001b[0m\u001b[0;34m\u001b[0m\u001b[0m\n",
            "\u001b[0;32m/usr/local/lib/python3.7/dist-packages/rdp/__init__.py\u001b[0m in \u001b[0;36mrdp_iter\u001b[0;34m(M, epsilon, dist, return_mask)\u001b[0m\n\u001b[1;32m    114\u001b[0m     \u001b[0;34m:\u001b[0m\u001b[0mtype\u001b[0m \u001b[0mreturn_mask\u001b[0m\u001b[0;34m:\u001b[0m \u001b[0mbool\u001b[0m\u001b[0;34m\u001b[0m\u001b[0;34m\u001b[0m\u001b[0m\n\u001b[1;32m    115\u001b[0m     \"\"\"\n\u001b[0;32m--> 116\u001b[0;31m     \u001b[0mmask\u001b[0m \u001b[0;34m=\u001b[0m \u001b[0m_rdp_iter\u001b[0m\u001b[0;34m(\u001b[0m\u001b[0mM\u001b[0m\u001b[0;34m,\u001b[0m \u001b[0;36m0\u001b[0m\u001b[0;34m,\u001b[0m \u001b[0mlen\u001b[0m\u001b[0;34m(\u001b[0m\u001b[0mM\u001b[0m\u001b[0;34m)\u001b[0m \u001b[0;34m-\u001b[0m \u001b[0;36m1\u001b[0m\u001b[0;34m,\u001b[0m \u001b[0mepsilon\u001b[0m\u001b[0;34m,\u001b[0m \u001b[0mdist\u001b[0m\u001b[0;34m)\u001b[0m\u001b[0;34m\u001b[0m\u001b[0;34m\u001b[0m\u001b[0m\n\u001b[0m\u001b[1;32m    117\u001b[0m \u001b[0;34m\u001b[0m\u001b[0m\n\u001b[1;32m    118\u001b[0m     \u001b[0;32mif\u001b[0m \u001b[0mreturn_mask\u001b[0m\u001b[0;34m:\u001b[0m\u001b[0;34m\u001b[0m\u001b[0;34m\u001b[0m\u001b[0m\n",
            "\u001b[0;32m/usr/local/lib/python3.7/dist-packages/rdp/__init__.py\u001b[0m in \u001b[0;36m_rdp_iter\u001b[0;34m(M, start_index, last_index, epsilon, dist)\u001b[0m\n\u001b[1;32m     84\u001b[0m         \u001b[0;32mfor\u001b[0m \u001b[0mi\u001b[0m \u001b[0;32min\u001b[0m \u001b[0mxrange\u001b[0m\u001b[0;34m(\u001b[0m\u001b[0mindex\u001b[0m \u001b[0;34m+\u001b[0m \u001b[0;36m1\u001b[0m\u001b[0;34m,\u001b[0m \u001b[0mlast_index\u001b[0m\u001b[0;34m)\u001b[0m\u001b[0;34m:\u001b[0m\u001b[0;34m\u001b[0m\u001b[0;34m\u001b[0m\u001b[0m\n\u001b[1;32m     85\u001b[0m             \u001b[0;32mif\u001b[0m \u001b[0mindices\u001b[0m\u001b[0;34m[\u001b[0m\u001b[0mi\u001b[0m \u001b[0;34m-\u001b[0m \u001b[0mglobal_start_index\u001b[0m\u001b[0;34m]\u001b[0m\u001b[0;34m:\u001b[0m\u001b[0;34m\u001b[0m\u001b[0;34m\u001b[0m\u001b[0m\n\u001b[0;32m---> 86\u001b[0;31m                 \u001b[0md\u001b[0m \u001b[0;34m=\u001b[0m \u001b[0mdist\u001b[0m\u001b[0;34m(\u001b[0m\u001b[0mM\u001b[0m\u001b[0;34m[\u001b[0m\u001b[0mi\u001b[0m\u001b[0;34m]\u001b[0m\u001b[0;34m,\u001b[0m \u001b[0mM\u001b[0m\u001b[0;34m[\u001b[0m\u001b[0mstart_index\u001b[0m\u001b[0;34m]\u001b[0m\u001b[0;34m,\u001b[0m \u001b[0mM\u001b[0m\u001b[0;34m[\u001b[0m\u001b[0mlast_index\u001b[0m\u001b[0;34m]\u001b[0m\u001b[0;34m)\u001b[0m\u001b[0;34m\u001b[0m\u001b[0;34m\u001b[0m\u001b[0m\n\u001b[0m\u001b[1;32m     87\u001b[0m                 \u001b[0;32mif\u001b[0m \u001b[0md\u001b[0m \u001b[0;34m>\u001b[0m \u001b[0mdmax\u001b[0m\u001b[0;34m:\u001b[0m\u001b[0;34m\u001b[0m\u001b[0;34m\u001b[0m\u001b[0m\n\u001b[1;32m     88\u001b[0m                     \u001b[0mindex\u001b[0m \u001b[0;34m=\u001b[0m \u001b[0mi\u001b[0m\u001b[0;34m\u001b[0m\u001b[0;34m\u001b[0m\u001b[0m\n",
            "\u001b[0;32m/usr/local/lib/python3.7/dist-packages/rdp/__init__.py\u001b[0m in \u001b[0;36mpldist\u001b[0;34m(point, start, end)\u001b[0m\n\u001b[1;32m     34\u001b[0m \u001b[0;34m\u001b[0m\u001b[0m\n\u001b[1;32m     35\u001b[0m     return np.divide(\n\u001b[0;32m---> 36\u001b[0;31m             \u001b[0mnp\u001b[0m\u001b[0;34m.\u001b[0m\u001b[0mabs\u001b[0m\u001b[0;34m(\u001b[0m\u001b[0mnp\u001b[0m\u001b[0;34m.\u001b[0m\u001b[0mlinalg\u001b[0m\u001b[0;34m.\u001b[0m\u001b[0mnorm\u001b[0m\u001b[0;34m(\u001b[0m\u001b[0mnp\u001b[0m\u001b[0;34m.\u001b[0m\u001b[0mcross\u001b[0m\u001b[0;34m(\u001b[0m\u001b[0mend\u001b[0m \u001b[0;34m-\u001b[0m \u001b[0mstart\u001b[0m\u001b[0;34m,\u001b[0m \u001b[0mstart\u001b[0m \u001b[0;34m-\u001b[0m \u001b[0mpoint\u001b[0m\u001b[0;34m)\u001b[0m\u001b[0;34m)\u001b[0m\u001b[0;34m)\u001b[0m\u001b[0;34m,\u001b[0m\u001b[0;34m\u001b[0m\u001b[0;34m\u001b[0m\u001b[0m\n\u001b[0m\u001b[1;32m     37\u001b[0m             np.linalg.norm(end - start))\n\u001b[1;32m     38\u001b[0m \u001b[0;34m\u001b[0m\u001b[0m\n",
            "\u001b[0;32m<__array_function__ internals>\u001b[0m in \u001b[0;36mnorm\u001b[0;34m(*args, **kwargs)\u001b[0m\n",
            "\u001b[0;32m/usr/local/lib/python3.7/dist-packages/numpy/linalg/linalg.py\u001b[0m in \u001b[0;36mnorm\u001b[0;34m(x, ord, axis, keepdims)\u001b[0m\n\u001b[1;32m   2519\u001b[0m     \u001b[0;31m# Immediately handle some default, simple, fast, and common cases.\u001b[0m\u001b[0;34m\u001b[0m\u001b[0;34m\u001b[0m\u001b[0;34m\u001b[0m\u001b[0m\n\u001b[1;32m   2520\u001b[0m     \u001b[0;32mif\u001b[0m \u001b[0maxis\u001b[0m \u001b[0;32mis\u001b[0m \u001b[0;32mNone\u001b[0m\u001b[0;34m:\u001b[0m\u001b[0;34m\u001b[0m\u001b[0;34m\u001b[0m\u001b[0m\n\u001b[0;32m-> 2521\u001b[0;31m         \u001b[0mndim\u001b[0m \u001b[0;34m=\u001b[0m \u001b[0mx\u001b[0m\u001b[0;34m.\u001b[0m\u001b[0mndim\u001b[0m\u001b[0;34m\u001b[0m\u001b[0;34m\u001b[0m\u001b[0m\n\u001b[0m\u001b[1;32m   2522\u001b[0m         if ((ord is None) or\n\u001b[1;32m   2523\u001b[0m             \u001b[0;34m(\u001b[0m\u001b[0mord\u001b[0m \u001b[0;32min\u001b[0m \u001b[0;34m(\u001b[0m\u001b[0;34m'f'\u001b[0m\u001b[0;34m,\u001b[0m \u001b[0;34m'fro'\u001b[0m\u001b[0;34m)\u001b[0m \u001b[0;32mand\u001b[0m \u001b[0mndim\u001b[0m \u001b[0;34m==\u001b[0m \u001b[0;36m2\u001b[0m\u001b[0;34m)\u001b[0m \u001b[0;32mor\u001b[0m\u001b[0;34m\u001b[0m\u001b[0;34m\u001b[0m\u001b[0m\n",
            "\u001b[0;31mKeyboardInterrupt\u001b[0m: "
          ]
        }
      ]
    },
    {
      "cell_type": "markdown",
      "metadata": {
        "id": "4Jb6W26yp8-b"
      },
      "source": [
        "## Windowing"
      ]
    },
    {
      "cell_type": "code",
      "metadata": {
        "colab": {
          "base_uri": "https://localhost:8080/"
        },
        "id": "S1ABJdRHp-f0",
        "outputId": "3b91f3b4-8ea7-46ff-dd21-c441b8fadfc4"
      },
      "source": [
        "X_deck_windowed = window(X_deck, min_timeshift=100)"
      ],
      "execution_count": 69,
      "outputs": [
        {
          "output_type": "stream",
          "text": [
            "/usr/local/lib/python3.7/dist-packages/tsfresh/utilities/dataframe_functions.py:456: UserWarning:\n",
            "\n",
            "Your time stamps are not uniformly sampled, which makes rolling nonsensical in some domains.\n",
            "\n",
            "\n",
            "\n",
            "\n",
            "\n",
            "\n",
            "\n",
            "\n",
            "Rolling:   0%|          | 0/10 [00:00<?, ?it/s]\u001b[A\u001b[A\u001b[A\u001b[A\u001b[A\u001b[A\u001b[A\n",
            "\n",
            "\n",
            "\n",
            "\n",
            "\n",
            "\n",
            "Rolling:  10%|█         | 1/10 [00:01<00:16,  1.88s/it]\u001b[A\u001b[A\u001b[A\u001b[A\u001b[A\u001b[A\u001b[A\n",
            "\n",
            "\n",
            "\n",
            "\n",
            "\n",
            "\n",
            "Rolling:  20%|██        | 2/10 [00:02<00:10,  1.37s/it]\u001b[A\u001b[A\u001b[A\u001b[A\u001b[A\u001b[A\u001b[A\n",
            "\n",
            "\n",
            "\n",
            "\n",
            "\n",
            "\n",
            "Rolling:  30%|███       | 3/10 [00:31<01:09,  9.93s/it]\u001b[A\u001b[A\u001b[A\u001b[A\u001b[A\u001b[A\u001b[A\n",
            "\n",
            "\n",
            "\n",
            "\n",
            "\n",
            "\n",
            "Rolling:  40%|████      | 4/10 [00:33<00:44,  7.48s/it]\u001b[A\u001b[A\u001b[A\u001b[A\u001b[A\u001b[A\u001b[A\n",
            "\n",
            "\n",
            "\n",
            "\n",
            "\n",
            "\n",
            "Rolling:  50%|█████     | 5/10 [00:55<00:59, 11.90s/it]\u001b[A\u001b[A\u001b[A\u001b[A\u001b[A\u001b[A\u001b[A\n",
            "\n",
            "\n",
            "\n",
            "\n",
            "\n",
            "\n",
            "Rolling:  60%|██████    | 6/10 [00:57<00:35,  8.84s/it]\u001b[A\u001b[A\u001b[A\u001b[A\u001b[A\u001b[A\u001b[A\n",
            "\n",
            "\n",
            "\n",
            "\n",
            "\n",
            "\n",
            "Rolling:  70%|███████   | 7/10 [01:07<00:27,  9.10s/it]\u001b[A\u001b[A\u001b[A\u001b[A\u001b[A\u001b[A\u001b[A\n",
            "\n",
            "\n",
            "\n",
            "\n",
            "\n",
            "\n",
            "Rolling:  80%|████████  | 8/10 [01:12<00:16,  8.03s/it]\u001b[A\u001b[A\u001b[A\u001b[A\u001b[A\u001b[A\u001b[A\n",
            "\n",
            "\n",
            "\n",
            "\n",
            "\n",
            "\n",
            "Rolling:  90%|█████████ | 9/10 [01:13<00:05,  5.94s/it]\u001b[A\u001b[A\u001b[A\u001b[A\u001b[A\u001b[A\u001b[A\n",
            "\n",
            "\n",
            "\n",
            "\n",
            "\n",
            "\n",
            "Rolling: 100%|██████████| 10/10 [01:15<00:00,  7.56s/it]\n"
          ],
          "name": "stderr"
        }
      ]
    },
    {
      "cell_type": "code",
      "metadata": {
        "colab": {
          "base_uri": "https://localhost:8080/"
        },
        "id": "JO9ppftkwXIl",
        "outputId": "a5bbc5bb-6142-4440-c969-fedb440695c5"
      },
      "source": [
        "print(X_deck_windowed)"
      ],
      "execution_count": 71,
      "outputs": [
        {
          "output_type": "stream",
          "text": [
            "(         Timestamp  ...                        full_id\n",
            "0         0.000000  ...    deck-double-Stefano_Jessica\n",
            "1        13.355769  ...    deck-double-Stefano_Jessica\n",
            "2        16.182692  ...    deck-double-Stefano_Jessica\n",
            "3        19.019231  ...    deck-double-Stefano_Jessica\n",
            "4        19.942308  ...    deck-double-Stefano_Jessica\n",
            "...            ...  ...                            ...\n",
            "741162  446.894231  ...  deck-single-Fosco_Cancelliere\n",
            "741163  447.817308  ...  deck-single-Fosco_Cancelliere\n",
            "741164  449.711538  ...  deck-single-Fosco_Cancelliere\n",
            "741165  450.653846  ...  deck-single-Fosco_Cancelliere\n",
            "741166  524.096154  ...  deck-single-Fosco_Cancelliere\n",
            "\n",
            "[1091179 rows x 16 columns],)\n"
          ],
          "name": "stdout"
        }
      ]
    },
    {
      "cell_type": "markdown",
      "metadata": {
        "id": "LeR5UgXpWqtJ"
      },
      "source": [
        "### Feature Extraction"
      ]
    },
    {
      "cell_type": "code",
      "metadata": {
        "colab": {
          "base_uri": "https://localhost:8080/"
        },
        "id": "khzMW8miWtLw",
        "outputId": "4c7939e1-f6c8-454d-e9d2-f06fad38187e"
      },
      "source": [
        "features = extract_features(X_deck_windowed[0].drop(\"full_id\", axis=1))\n",
        "features.to_csv(\"features_deck_full.csv\")"
      ],
      "execution_count": 72,
      "outputs": [
        {
          "output_type": "stream",
          "text": [
            "\n",
            "\n",
            "\n",
            "\n",
            "\n",
            "\n",
            "\n",
            "Feature Extraction:   0%|          | 0/20 [00:00<?, ?it/s]\u001b[A\u001b[A\u001b[A\u001b[A\u001b[A\u001b[A\u001b[A\n",
            "\n",
            "\n",
            "\n",
            "\n",
            "\n",
            "\n",
            "Feature Extraction:   5%|▌         | 1/20 [00:17<05:28, 17.31s/it]\u001b[A\u001b[A\u001b[A\u001b[A\u001b[A\u001b[A\u001b[A\n",
            "\n",
            "\n",
            "\n",
            "\n",
            "\n",
            "\n",
            "Feature Extraction:  10%|█         | 2/20 [00:24<04:15, 14.20s/it]\u001b[A\u001b[A\u001b[A\u001b[A\u001b[A\u001b[A\u001b[A\n",
            "\n",
            "\n",
            "\n",
            "\n",
            "\n",
            "\n",
            "Feature Extraction:  15%|█▌        | 3/20 [00:30<03:21, 11.85s/it]\u001b[A\u001b[A\u001b[A\u001b[A\u001b[A\u001b[A\u001b[A\n",
            "\n",
            "\n",
            "\n",
            "\n",
            "\n",
            "\n",
            "Feature Extraction:  20%|██        | 4/20 [00:37<02:46, 10.41s/it]\u001b[A\u001b[A\u001b[A\u001b[A\u001b[A\u001b[A\u001b[A\n",
            "\n",
            "\n",
            "\n",
            "\n",
            "\n",
            "\n",
            "Feature Extraction:  25%|██▌       | 5/20 [00:42<02:10,  8.70s/it]\u001b[A\u001b[A\u001b[A\u001b[A\u001b[A\u001b[A\u001b[A\n",
            "\n",
            "\n",
            "\n",
            "\n",
            "\n",
            "\n",
            "Feature Extraction:  30%|███       | 6/20 [00:47<01:47,  7.69s/it]\u001b[A\u001b[A\u001b[A\u001b[A\u001b[A\u001b[A\u001b[A\n",
            "\n",
            "\n",
            "\n",
            "\n",
            "\n",
            "\n",
            "Feature Extraction:  35%|███▌      | 7/20 [00:53<01:31,  7.05s/it]\u001b[A\u001b[A\u001b[A\u001b[A\u001b[A\u001b[A\u001b[A\n",
            "\n",
            "\n",
            "\n",
            "\n",
            "\n",
            "\n",
            "Feature Extraction:  40%|████      | 8/20 [00:59<01:22,  6.88s/it]\u001b[A\u001b[A\u001b[A\u001b[A\u001b[A\u001b[A\u001b[A\n",
            "\n",
            "\n",
            "\n",
            "\n",
            "\n",
            "\n",
            "Feature Extraction:  45%|████▌     | 9/20 [01:07<01:18,  7.16s/it]\u001b[A\u001b[A\u001b[A\u001b[A\u001b[A\u001b[A\u001b[A\n",
            "\n",
            "\n",
            "\n",
            "\n",
            "\n",
            "\n",
            "Feature Extraction:  50%|█████     | 10/20 [01:14<01:10,  7.04s/it]\u001b[A\u001b[A\u001b[A\u001b[A\u001b[A\u001b[A\u001b[A\n",
            "\n",
            "\n",
            "\n",
            "\n",
            "\n",
            "\n",
            "Feature Extraction:  55%|█████▌    | 11/20 [01:19<00:57,  6.35s/it]\u001b[A\u001b[A\u001b[A\u001b[A\u001b[A\u001b[A\u001b[A\n",
            "\n",
            "\n",
            "\n",
            "\n",
            "\n",
            "\n",
            "Feature Extraction:  60%|██████    | 12/20 [01:26<00:53,  6.64s/it]\u001b[A\u001b[A\u001b[A\u001b[A\u001b[A\u001b[A\u001b[A\n",
            "\n",
            "\n",
            "\n",
            "\n",
            "\n",
            "\n",
            "Feature Extraction:  65%|██████▌   | 13/20 [01:29<00:39,  5.62s/it]\u001b[A\u001b[A\u001b[A\u001b[A\u001b[A\u001b[A\u001b[A\n",
            "\n",
            "\n",
            "\n",
            "\n",
            "\n",
            "\n",
            "Feature Extraction:  70%|███████   | 14/20 [01:34<00:32,  5.39s/it]\u001b[A\u001b[A\u001b[A\u001b[A\u001b[A\u001b[A\u001b[A\n",
            "\n",
            "\n",
            "\n",
            "\n",
            "\n",
            "\n",
            "Feature Extraction:  75%|███████▌  | 15/20 [01:40<00:28,  5.62s/it]\u001b[A\u001b[A\u001b[A\u001b[A\u001b[A\u001b[A\u001b[A\n",
            "\n",
            "\n",
            "\n",
            "\n",
            "\n",
            "\n",
            "Feature Extraction:  80%|████████  | 16/20 [01:45<00:21,  5.50s/it]\u001b[A\u001b[A\u001b[A\u001b[A\u001b[A\u001b[A\u001b[A\n",
            "\n",
            "\n",
            "\n",
            "\n",
            "\n",
            "\n",
            "Feature Extraction:  85%|████████▌ | 17/20 [01:49<00:15,  5.07s/it]\u001b[A\u001b[A\u001b[A\u001b[A\u001b[A\u001b[A\u001b[A\n",
            "\n",
            "\n",
            "\n",
            "\n",
            "\n",
            "\n",
            "Feature Extraction:  90%|█████████ | 18/20 [01:55<00:10,  5.24s/it]\u001b[A\u001b[A\u001b[A\u001b[A\u001b[A\u001b[A\u001b[A\n",
            "\n",
            "\n",
            "\n",
            "\n",
            "\n",
            "\n",
            "Feature Extraction:  95%|█████████▌| 19/20 [02:00<00:05,  5.06s/it]\u001b[A\u001b[A\u001b[A\u001b[A\u001b[A\u001b[A\u001b[A\n",
            "\n",
            "\n",
            "\n",
            "\n",
            "\n",
            "\n",
            "Feature Extraction: 100%|██████████| 20/20 [02:05<00:00,  6.25s/it]\n"
          ],
          "name": "stderr"
        }
      ]
    },
    {
      "cell_type": "code",
      "metadata": {
        "id": "h4z4thdbcA6T",
        "colab": {
          "base_uri": "https://localhost:8080/",
          "height": 435
        },
        "outputId": "5b708485-041d-4449-9646-b20b1b931f49"
      },
      "source": [
        "weight_features = select_features(features, y_weight_deck)\n",
        "weight_features.to_csv(\"selected_features_aligned_weight.csv\")\n",
        "passenger_features = select_features(features, y_passengers_deck)\n",
        "passenger_features.to_csv(\"selected_features_aligned_passengers.csv\")"
      ],
      "execution_count": 73,
      "outputs": [
        {
          "output_type": "error",
          "ename": "AssertionError",
          "evalue": "ignored",
          "traceback": [
            "\u001b[0;31m---------------------------------------------------------------------------\u001b[0m",
            "\u001b[0;31mAssertionError\u001b[0m                            Traceback (most recent call last)",
            "\u001b[0;32m<ipython-input-73-c1d0c67cc750>\u001b[0m in \u001b[0;36m<module>\u001b[0;34m()\u001b[0m\n\u001b[0;32m----> 1\u001b[0;31m \u001b[0mweight_features\u001b[0m \u001b[0;34m=\u001b[0m \u001b[0mselect_features\u001b[0m\u001b[0;34m(\u001b[0m\u001b[0mfeatures\u001b[0m\u001b[0;34m,\u001b[0m \u001b[0my_weight_deck\u001b[0m\u001b[0;34m)\u001b[0m\u001b[0;34m\u001b[0m\u001b[0;34m\u001b[0m\u001b[0m\n\u001b[0m\u001b[1;32m      2\u001b[0m \u001b[0mweight_features\u001b[0m\u001b[0;34m.\u001b[0m\u001b[0mto_csv\u001b[0m\u001b[0;34m(\u001b[0m\u001b[0;34m\"selected_features_aligned_weight.csv\"\u001b[0m\u001b[0;34m)\u001b[0m\u001b[0;34m\u001b[0m\u001b[0;34m\u001b[0m\u001b[0m\n\u001b[1;32m      3\u001b[0m \u001b[0mpassenger_features\u001b[0m \u001b[0;34m=\u001b[0m \u001b[0mselect_features\u001b[0m\u001b[0;34m(\u001b[0m\u001b[0mfeatures\u001b[0m\u001b[0;34m,\u001b[0m \u001b[0my_passengers_deck\u001b[0m\u001b[0;34m)\u001b[0m\u001b[0;34m\u001b[0m\u001b[0;34m\u001b[0m\u001b[0m\n\u001b[1;32m      4\u001b[0m \u001b[0mpassenger_features\u001b[0m\u001b[0;34m.\u001b[0m\u001b[0mto_csv\u001b[0m\u001b[0;34m(\u001b[0m\u001b[0;34m\"selected_features_aligned_passengers.csv\"\u001b[0m\u001b[0;34m)\u001b[0m\u001b[0;34m\u001b[0m\u001b[0;34m\u001b[0m\u001b[0m\n",
            "\u001b[0;32m<ipython-input-26-c413bb20ec52>\u001b[0m in \u001b[0;36mselect_features\u001b[0;34m(X, y)\u001b[0m\n\u001b[1;32m      1\u001b[0m \u001b[0;32mdef\u001b[0m \u001b[0mselect_features\u001b[0m\u001b[0;34m(\u001b[0m\u001b[0mX\u001b[0m\u001b[0;34m:\u001b[0m \u001b[0mpd\u001b[0m\u001b[0;34m.\u001b[0m\u001b[0mDataFrame\u001b[0m\u001b[0;34m,\u001b[0m \u001b[0my\u001b[0m\u001b[0;34m:\u001b[0m \u001b[0mpd\u001b[0m\u001b[0;34m.\u001b[0m\u001b[0mSeries\u001b[0m\u001b[0;34m)\u001b[0m\u001b[0;34m:\u001b[0m\u001b[0;34m\u001b[0m\u001b[0;34m\u001b[0m\u001b[0m\n\u001b[0;32m----> 2\u001b[0;31m   \u001b[0;32mreturn\u001b[0m \u001b[0mts\u001b[0m\u001b[0;34m.\u001b[0m\u001b[0mselect_features\u001b[0m\u001b[0;34m(\u001b[0m\u001b[0mX\u001b[0m\u001b[0;34m,\u001b[0m \u001b[0my\u001b[0m\u001b[0;34m)\u001b[0m\u001b[0;34m\u001b[0m\u001b[0;34m\u001b[0m\u001b[0m\n\u001b[0m",
            "\u001b[0;32m/usr/local/lib/python3.7/dist-packages/tsfresh/feature_selection/selection.py\u001b[0m in \u001b[0;36mselect_features\u001b[0;34m(X, y, test_for_binary_target_binary_feature, test_for_binary_target_real_feature, test_for_real_target_binary_feature, test_for_real_target_real_feature, fdr_level, hypotheses_independent, n_jobs, show_warnings, chunksize, ml_task, multiclass, n_significant)\u001b[0m\n\u001b[1;32m    151\u001b[0m     )\n\u001b[1;32m    152\u001b[0m     \u001b[0;32massert\u001b[0m \u001b[0mlen\u001b[0m\u001b[0;34m(\u001b[0m\u001b[0my\u001b[0m\u001b[0;34m)\u001b[0m \u001b[0;34m>\u001b[0m \u001b[0;36m1\u001b[0m\u001b[0;34m,\u001b[0m \u001b[0;34m\"y must contain at least two samples.\"\u001b[0m\u001b[0;34m\u001b[0m\u001b[0;34m\u001b[0m\u001b[0m\n\u001b[0;32m--> 153\u001b[0;31m     \u001b[0;32massert\u001b[0m \u001b[0mlen\u001b[0m\u001b[0;34m(\u001b[0m\u001b[0mX\u001b[0m\u001b[0;34m)\u001b[0m \u001b[0;34m==\u001b[0m \u001b[0mlen\u001b[0m\u001b[0;34m(\u001b[0m\u001b[0my\u001b[0m\u001b[0;34m)\u001b[0m\u001b[0;34m,\u001b[0m \u001b[0;34m\"X and y must contain the same number of samples.\"\u001b[0m\u001b[0;34m\u001b[0m\u001b[0;34m\u001b[0m\u001b[0m\n\u001b[0m\u001b[1;32m    154\u001b[0m     assert (\n\u001b[1;32m    155\u001b[0m         \u001b[0mlen\u001b[0m\u001b[0;34m(\u001b[0m\u001b[0mset\u001b[0m\u001b[0;34m(\u001b[0m\u001b[0my\u001b[0m\u001b[0;34m)\u001b[0m\u001b[0;34m)\u001b[0m \u001b[0;34m>\u001b[0m \u001b[0;36m1\u001b[0m\u001b[0;34m\u001b[0m\u001b[0;34m\u001b[0m\u001b[0m\n",
            "\u001b[0;31mAssertionError\u001b[0m: X and y must contain the same number of samples."
          ]
        }
      ]
    },
    {
      "cell_type": "markdown",
      "metadata": {
        "id": "eJ9jcaifa4pP"
      },
      "source": [
        "### Pipeline"
      ]
    },
    {
      "cell_type": "code",
      "metadata": {
        "id": "DDgJYXjEa7Bb"
      },
      "source": [
        "cachedir = mkdtemp()\n",
        "memory = joblib.Memory(location=cachedir, verbose=10)\n",
        "\n",
        "pipeline = sklearn.pipeline.Pipeline([#(\"align\", sk.preprocessing.FunctionTransformer(align))\n",
        "                                 (\"windowing\", skt.forecasting.model_selection.SlidingWindowSplitter),\n",
        "                                 (\"simplify_paths\", sk.preprocessing.FunctionTransformer(simplify_path)),\n",
        "                                 (\"extract_features\", sk.preprocessing.FunctionTransformer(extract_features)),\n",
        "                                 (\"pca\", sk.decomposition.PCA()),\n",
        "                                 #(\"select_features\", sk.preprocessing.FunctionTransformer(select_features)),\n",
        "                                 (\"logistic_regression\", sk.linear_model.LogisticRegression(max_iter=10000, tol=0.1))],\n",
        "                                memory=memory)"
      ],
      "execution_count": null,
      "outputs": []
    },
    {
      "cell_type": "markdown",
      "metadata": {
        "id": "Ynbr50SYbEoX"
      },
      "source": [
        "### Cross Validation"
      ]
    },
    {
      "cell_type": "code",
      "metadata": {
        "colab": {
          "base_uri": "https://localhost:8080/",
          "height": 217
        },
        "id": "6wVglUMM-hkx",
        "outputId": "1d2a0aad-23bb-4b1a-decd-44119676814f"
      },
      "source": [
        "param_grid = {\n",
        "    \"window__min_timeshift\": [0, 10, 100, 1000, 10000],\n",
        "    \"window__max_timeshift\": [None, 10, 100, 1000, 10000],\n",
        "    \"simplify_paths\": [0, 1e-6, 1e-9, 1e-12, 1e-15],\n",
        "    \"pca__n_components\": [5, 15, 30, 45, 64],\n",
        "    \"logistic__C\": np.logspace(-4, 4, 4),\n",
        "}\n",
        "search = sk.model_selection.GridSearchCV(pipeline, param_grid, n_jobs=-1)\n",
        "search.fit(pd.DataFrame, y_passenger)\n"
      ],
      "execution_count": null,
      "outputs": [
        {
          "output_type": "error",
          "ename": "TypeError",
          "evalue": "ignored",
          "traceback": [
            "\u001b[0;31m---------------------------------------------------------------------------\u001b[0m",
            "\u001b[0;31mTypeError\u001b[0m                                 Traceback (most recent call last)",
            "\u001b[0;32m<ipython-input-131-20648c875210>\u001b[0m in \u001b[0;36m<module>\u001b[0;34m()\u001b[0m\n\u001b[1;32m      7\u001b[0m }\n\u001b[1;32m      8\u001b[0m \u001b[0msearch\u001b[0m \u001b[0;34m=\u001b[0m \u001b[0msk\u001b[0m\u001b[0;34m.\u001b[0m\u001b[0mmodel_selection\u001b[0m\u001b[0;34m.\u001b[0m\u001b[0mGridSearchCV\u001b[0m\u001b[0;34m(\u001b[0m\u001b[0mpipeline\u001b[0m\u001b[0;34m,\u001b[0m \u001b[0mparam_grid\u001b[0m\u001b[0;34m,\u001b[0m \u001b[0mn_jobs\u001b[0m\u001b[0;34m=\u001b[0m\u001b[0;34m-\u001b[0m\u001b[0;36m1\u001b[0m\u001b[0;34m)\u001b[0m\u001b[0;34m\u001b[0m\u001b[0;34m\u001b[0m\u001b[0m\n\u001b[0;32m----> 9\u001b[0;31m \u001b[0msearch\u001b[0m\u001b[0;34m.\u001b[0m\u001b[0mfit\u001b[0m\u001b[0;34m(\u001b[0m\u001b[0mX\u001b[0m\u001b[0;34m(\u001b[0m\u001b[0mindex\u001b[0m\u001b[0;34m=\u001b[0m\u001b[0my_passenger\u001b[0m\u001b[0;34m.\u001b[0m\u001b[0mindex\u001b[0m\u001b[0;34m)\u001b[0m\u001b[0;34m,\u001b[0m \u001b[0my_passenger\u001b[0m\u001b[0;34m)\u001b[0m\u001b[0;34m\u001b[0m\u001b[0;34m\u001b[0m\u001b[0m\n\u001b[0m",
            "\u001b[0;31mTypeError\u001b[0m: 'DataFrame' object is not callable"
          ]
        }
      ]
    },
    {
      "cell_type": "markdown",
      "metadata": {
        "id": "2FnNSDTJbIGF"
      },
      "source": [
        "### Fit"
      ]
    },
    {
      "cell_type": "markdown",
      "metadata": {
        "id": "AjtPLIymbJ3p"
      },
      "source": [
        "#### Weight Fit"
      ]
    },
    {
      "cell_type": "code",
      "metadata": {
        "id": "m68hhRX2bMU4"
      },
      "source": [
        "search.fit(X, y_weight)"
      ],
      "execution_count": null,
      "outputs": []
    },
    {
      "cell_type": "markdown",
      "metadata": {
        "id": "tMtizbqHbOlG"
      },
      "source": [
        "####Passenger Fit"
      ]
    },
    {
      "cell_type": "code",
      "metadata": {
        "id": "g1Cb-cVzbRwv"
      },
      "source": [
        "search.fit(X, y_passenger)"
      ],
      "execution_count": null,
      "outputs": []
    }
  ]
}