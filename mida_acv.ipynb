{
  "nbformat": 4,
  "nbformat_minor": 0,
  "metadata": {
    "kernelspec": {
      "display_name": "Python 3",
      "language": "python",
      "name": "python3"
    },
    "language_info": {
      "codemirror_mode": {
        "name": "ipython",
        "version": 2
      },
      "file_extension": ".py",
      "mimetype": "text/x-python",
      "name": "python",
      "nbconvert_exporter": "python",
      "pygments_lexer": "ipython2",
      "version": "2.7.6"
    },
    "colab": {
      "name": "mida_acv.ipynb",
      "provenance": [],
      "collapsed_sections": [
        "Gy7bS0L91jmM"
      ],
      "include_colab_link": true
    }
  },
  "cells": [
    {
      "cell_type": "markdown",
      "metadata": {
        "id": "view-in-github",
        "colab_type": "text"
      },
      "source": [
        "<a href=\"https://colab.research.google.com/github/DPaletti/mida_acv/blob/main/mida_acv.ipynb\" target=\"_parent\"><img src=\"https://colab.research.google.com/assets/colab-badge.svg\" alt=\"Open In Colab\"/></a>"
      ]
    },
    {
      "cell_type": "markdown",
      "metadata": {
        "collapsed": false,
        "id": "AecmabYVurev"
      },
      "source": [
        "# Sustainable Mobility: classification of electric scooters rides"
      ]
    },
    {
      "cell_type": "markdown",
      "metadata": {
        "id": "Gy7bS0L91jmM"
      },
      "source": [
        "## Get Data"
      ]
    },
    {
      "cell_type": "code",
      "metadata": {
        "pycharm": {
          "name": "#%%\n"
        },
        "id": "MCbw2yn3urez",
        "colab": {
          "base_uri": "https://localhost:8080/"
        },
        "outputId": "1dceecc6-047b-418e-fd56-39842c41ad9f"
      },
      "source": [
        "!git clone https://github.com/DPaletti/mida_acv\n",
        "!mv mida_acv/data .\n",
        "!yes|rm -r mida_acv"
      ],
      "execution_count": 1,
      "outputs": [
        {
          "output_type": "stream",
          "text": [
            "Cloning into 'mida_acv'...\n",
            "remote: Enumerating objects: 246, done.\u001b[K\n",
            "remote: Counting objects: 100% (51/51), done.\u001b[K\n",
            "remote: Compressing objects: 100% (46/46), done.\u001b[K\n",
            "remote: Total 246 (delta 4), reused 45 (delta 2), pack-reused 195\u001b[K\n",
            "Receiving objects: 100% (246/246), 250.21 MiB | 21.90 MiB/s, done.\n",
            "Resolving deltas: 100% (21/21), done.\n",
            "Checking out files: 100% (162/162), done.\n"
          ],
          "name": "stdout"
        }
      ]
    },
    {
      "cell_type": "markdown",
      "metadata": {
        "id": "ieNbtN1s2AQp"
      },
      "source": [
        "## Install dependencies"
      ]
    },
    {
      "cell_type": "code",
      "metadata": {
        "colab": {
          "base_uri": "https://localhost:8080/"
        },
        "id": "XAlrODCD2DWm",
        "outputId": "0d119de6-1158-4821-dc21-29c57634f2f2"
      },
      "source": [
        "!pip install tsfresh\n",
        "!pip install rdp"
      ],
      "execution_count": 1,
      "outputs": [
        {
          "output_type": "stream",
          "text": [
            "Requirement already satisfied: tsfresh in /usr/local/lib/python3.7/dist-packages (0.18.0)\n",
            "Requirement already satisfied: pandas>=0.25.0 in /usr/local/lib/python3.7/dist-packages (from tsfresh) (1.1.5)\n",
            "Requirement already satisfied: patsy>=0.4.1 in /usr/local/lib/python3.7/dist-packages (from tsfresh) (0.5.1)\n",
            "Requirement already satisfied: distributed>=2.11.0 in /usr/local/lib/python3.7/dist-packages (from tsfresh) (2021.4.0)\n",
            "Requirement already satisfied: matrixprofile>=1.1.10<2.0.0 in /usr/local/lib/python3.7/dist-packages (from tsfresh) (1.1.10)\n",
            "Requirement already satisfied: scipy>=1.2.0 in /usr/local/lib/python3.7/dist-packages (from tsfresh) (1.4.1)\n",
            "Requirement already satisfied: numpy>=1.15.1 in /usr/local/lib/python3.7/dist-packages (from tsfresh) (1.19.5)\n",
            "Requirement already satisfied: scikit-learn>=0.22.0 in /usr/local/lib/python3.7/dist-packages (from tsfresh) (0.22.2.post1)\n",
            "Requirement already satisfied: statsmodels>=0.9.0 in /usr/local/lib/python3.7/dist-packages (from tsfresh) (0.10.2)\n",
            "Requirement already satisfied: stumpy>=1.7.2 in /usr/local/lib/python3.7/dist-packages (from tsfresh) (1.8.0)\n",
            "Requirement already satisfied: dask[dataframe]>=2.9.0 in /usr/local/lib/python3.7/dist-packages (from tsfresh) (2.12.0)\n",
            "Requirement already satisfied: tqdm>=4.10.0 in /usr/local/lib/python3.7/dist-packages (from tsfresh) (4.41.1)\n",
            "Requirement already satisfied: requests>=2.9.1 in /usr/local/lib/python3.7/dist-packages (from tsfresh) (2.23.0)\n",
            "Requirement already satisfied: pytz>=2017.2 in /usr/local/lib/python3.7/dist-packages (from pandas>=0.25.0->tsfresh) (2018.9)\n",
            "Requirement already satisfied: python-dateutil>=2.7.3 in /usr/local/lib/python3.7/dist-packages (from pandas>=0.25.0->tsfresh) (2.8.1)\n",
            "Requirement already satisfied: six in /usr/local/lib/python3.7/dist-packages (from patsy>=0.4.1->tsfresh) (1.15.0)\n",
            "Requirement already satisfied: tblib>=1.6.0 in /usr/local/lib/python3.7/dist-packages (from distributed>=2.11.0->tsfresh) (1.7.0)\n",
            "Requirement already satisfied: sortedcontainers!=2.0.0,!=2.0.1 in /usr/local/lib/python3.7/dist-packages (from distributed>=2.11.0->tsfresh) (2.3.0)\n",
            "Requirement already satisfied: tornado>=5; python_version < \"3.8\" in /usr/local/lib/python3.7/dist-packages (from distributed>=2.11.0->tsfresh) (5.1.1)\n",
            "Requirement already satisfied: click>=6.6 in /usr/local/lib/python3.7/dist-packages (from distributed>=2.11.0->tsfresh) (7.1.2)\n",
            "Requirement already satisfied: cloudpickle>=1.5.0 in /usr/local/lib/python3.7/dist-packages (from distributed>=2.11.0->tsfresh) (1.6.0)\n",
            "Requirement already satisfied: msgpack>=0.6.0 in /usr/local/lib/python3.7/dist-packages (from distributed>=2.11.0->tsfresh) (1.0.2)\n",
            "Requirement already satisfied: zict>=0.1.3 in /usr/local/lib/python3.7/dist-packages (from distributed>=2.11.0->tsfresh) (2.0.0)\n",
            "Requirement already satisfied: pyyaml in /usr/local/lib/python3.7/dist-packages (from distributed>=2.11.0->tsfresh) (3.13)\n",
            "Requirement already satisfied: toolz>=0.8.2 in /usr/local/lib/python3.7/dist-packages (from distributed>=2.11.0->tsfresh) (0.11.1)\n",
            "Requirement already satisfied: setuptools in /usr/local/lib/python3.7/dist-packages (from distributed>=2.11.0->tsfresh) (54.2.0)\n",
            "Requirement already satisfied: psutil>=5.0 in /usr/local/lib/python3.7/dist-packages (from distributed>=2.11.0->tsfresh) (5.4.8)\n",
            "Requirement already satisfied: matplotlib>=3.0.3 in /usr/local/lib/python3.7/dist-packages (from matrixprofile>=1.1.10<2.0.0->tsfresh) (3.2.2)\n",
            "Requirement already satisfied: protobuf==3.11.2 in /usr/local/lib/python3.7/dist-packages (from matrixprofile>=1.1.10<2.0.0->tsfresh) (3.11.2)\n",
            "Requirement already satisfied: joblib>=0.11 in /usr/local/lib/python3.7/dist-packages (from scikit-learn>=0.22.0->tsfresh) (1.0.1)\n",
            "Requirement already satisfied: numba>=0.48 in /usr/local/lib/python3.7/dist-packages (from stumpy>=1.7.2->tsfresh) (0.51.2)\n",
            "Requirement already satisfied: fsspec>=0.6.0; extra == \"dataframe\" in /usr/local/lib/python3.7/dist-packages (from dask[dataframe]>=2.9.0->tsfresh) (2021.4.0)\n",
            "Requirement already satisfied: partd>=0.3.10; extra == \"dataframe\" in /usr/local/lib/python3.7/dist-packages (from dask[dataframe]>=2.9.0->tsfresh) (1.2.0)\n",
            "Requirement already satisfied: chardet<4,>=3.0.2 in /usr/local/lib/python3.7/dist-packages (from requests>=2.9.1->tsfresh) (3.0.4)\n",
            "Requirement already satisfied: certifi>=2017.4.17 in /usr/local/lib/python3.7/dist-packages (from requests>=2.9.1->tsfresh) (2020.12.5)\n",
            "Requirement already satisfied: urllib3!=1.25.0,!=1.25.1,<1.26,>=1.21.1 in /usr/local/lib/python3.7/dist-packages (from requests>=2.9.1->tsfresh) (1.24.3)\n",
            "Requirement already satisfied: idna<3,>=2.5 in /usr/local/lib/python3.7/dist-packages (from requests>=2.9.1->tsfresh) (2.10)\n",
            "Requirement already satisfied: heapdict in /usr/local/lib/python3.7/dist-packages (from zict>=0.1.3->distributed>=2.11.0->tsfresh) (1.0.1)\n",
            "Requirement already satisfied: cycler>=0.10 in /usr/local/lib/python3.7/dist-packages (from matplotlib>=3.0.3->matrixprofile>=1.1.10<2.0.0->tsfresh) (0.10.0)\n",
            "Requirement already satisfied: pyparsing!=2.0.4,!=2.1.2,!=2.1.6,>=2.0.1 in /usr/local/lib/python3.7/dist-packages (from matplotlib>=3.0.3->matrixprofile>=1.1.10<2.0.0->tsfresh) (2.4.7)\n",
            "Requirement already satisfied: kiwisolver>=1.0.1 in /usr/local/lib/python3.7/dist-packages (from matplotlib>=3.0.3->matrixprofile>=1.1.10<2.0.0->tsfresh) (1.3.1)\n",
            "Requirement already satisfied: llvmlite<0.35,>=0.34.0.dev0 in /usr/local/lib/python3.7/dist-packages (from numba>=0.48->stumpy>=1.7.2->tsfresh) (0.34.0)\n",
            "Requirement already satisfied: locket in /usr/local/lib/python3.7/dist-packages (from partd>=0.3.10; extra == \"dataframe\"->dask[dataframe]>=2.9.0->tsfresh) (0.2.1)\n",
            "Collecting rdp\n",
            "  Downloading https://files.pythonhosted.org/packages/67/42/80a54cc4387256335c32b48bd42db80967ab5f40d6ffcd8167b3dd988c11/rdp-0.8.tar.gz\n",
            "Requirement already satisfied: numpy in /usr/local/lib/python3.7/dist-packages (from rdp) (1.19.5)\n",
            "Building wheels for collected packages: rdp\n",
            "  Building wheel for rdp (setup.py) ... \u001b[?25l\u001b[?25hdone\n",
            "  Created wheel for rdp: filename=rdp-0.8-cp37-none-any.whl size=4569 sha256=af1711568cd70c009f368fd9845fed2bd8ac12a85f85fbff8afd90d2e1bcd1e4\n",
            "  Stored in directory: /root/.cache/pip/wheels/76/e4/02/c738593caece49c63180d093651bec3cd3b02ea3248f076f07\n",
            "Successfully built rdp\n",
            "Installing collected packages: rdp\n",
            "Successfully installed rdp-0.8\n"
          ],
          "name": "stdout"
        }
      ]
    },
    {
      "cell_type": "code",
      "metadata": {
        "id": "xV2MjmrG2HSv"
      },
      "source": [
        "# After installing tsfresh runtime needs to be restarted\n",
        "exit()"
      ],
      "execution_count": 5,
      "outputs": []
    },
    {
      "cell_type": "markdown",
      "metadata": {
        "id": "ckdclAM02OH4"
      },
      "source": [
        "## Imports"
      ]
    },
    {
      "cell_type": "code",
      "metadata": {
        "colab": {
          "base_uri": "https://localhost:8080/"
        },
        "id": "RlA48MU22U1u",
        "outputId": "dc17ed1a-0866-4182-cc77-3899d53903fa"
      },
      "source": [
        "from typing import Tuple, List, Dict, Optional\n",
        "import pandas as pd\n",
        "import tsfresh as ts\n",
        "import sklearn as sk\n",
        "import rdp"
      ],
      "execution_count": 2,
      "outputs": [
        {
          "output_type": "stream",
          "text": [
            "/usr/local/lib/python3.7/dist-packages/statsmodels/tools/_testing.py:19: FutureWarning: pandas.util.testing is deprecated. Use the functions in the public API at pandas.testing instead.\n",
            "  import pandas.util.testing as tm\n"
          ],
          "name": "stderr"
        }
      ]
    },
    {
      "cell_type": "markdown",
      "metadata": {
        "id": "tN6Zz--h2qUy"
      },
      "source": [
        "## Read data"
      ]
    },
    {
      "cell_type": "code",
      "metadata": {
        "id": "cle0PIgg2tOt"
      },
      "source": [
        "def read_data(data_path: str) -> Tuple[pd.DataFrame, pd.Series, pd.Series]:\n",
        "    df = pd.DataFrame()\n",
        "    weight_series = pd.Series()\n",
        "    drivers_series = pd.Series()\n",
        "    temp_df: pd.DataFrame\n",
        "    i: int = 0\n",
        "    for placement in {\"deck\", \"stem\"}:\n",
        "        for driver_number in {\"single\", \"double\"}:\n",
        "            for ds in Path(data_path).joinpath(placement, driver_number).iterdir():\n",
        "                temp_df = pd.read_csv(str(ds))\n",
        "                weight = temp_df[\"Weight\"][0]\n",
        "                temp_df = temp_df.assign(id=i)\n",
        "                temp_df = temp_df.assign(IsDoublePassenger = 0  if driver_number == \"single\" else 1)\n",
        "                temp_df = temp_df.assign(IsDeck = 0 if placement == \"deck\" else placement==\"stem\")\n",
        "                temp_df = temp_df.drop(\n",
        "                    [\"Unnamed: 0\", \"Driver\", \"Placement\"], axis=1\n",
        "                )\n",
        "                df = df.append(temp_df)\n",
        "                i += 1\n",
        "    return df.fillna(0)\n"
      ],
      "execution_count": 9,
      "outputs": []
    },
    {
      "cell_type": "markdown",
      "metadata": {
        "id": "MuESplwo2-eT"
      },
      "source": [
        "## Path simplification"
      ]
    },
    {
      "cell_type": "code",
      "metadata": {
        "id": "s4gnCwrs3rXD"
      },
      "source": [
        "def get_path(X: pd.DataFrame) -> np.array:\n",
        "    out = []\n",
        "    for index, row in X.iterrows():\n",
        "        out.append((row[\"Latitude\"], row[\"Longitude\"]))\n",
        "    return np.array(out)\n",
        "\n",
        "def simplify_path(X: pd.DataFrame, epsilon: float = 1e-6):\n",
        "    out_df: pd.DataFrame = pd.DataFrame()\n",
        "    for df in [x for _, x in X.groupby([\"id\"])]:\n",
        "      df = df[rdp.rdp(get_path(df), epsilon=epsilon, return_mask=True)]\n",
        "      out_df = out_df.append(df)\n",
        "    return out_df"
      ],
      "execution_count": 4,
      "outputs": []
    },
    {
      "cell_type": "markdown",
      "metadata": {
        "id": "7-bYB5m38gTK"
      },
      "source": [
        "## Windowing"
      ]
    },
    {
      "cell_type": "code",
      "metadata": {
        "id": "mQmcXCu28mEM"
      },
      "source": [
        "def window(X: pd.DataFrame,\n",
        "           min_timeshift: int=0,\n",
        "           max_timeshift: Optional[int] = None) -> pd.DataFrame:\n",
        "  return ts.utilities.dataframe_functions.roll_time_series(\n",
        "        df,\n",
        "        column_id=\"id\",\n",
        "        column_sort=\"Timestamp\",\n",
        "        column_kind=None,\n",
        "        min_timeshift=min_timeshift,\n",
        "        max_timeshift=max_timeshift\n",
        "    )\n"
      ],
      "execution_count": 6,
      "outputs": []
    },
    {
      "cell_type": "markdown",
      "metadata": {
        "id": "xsv6GEwg930O"
      },
      "source": [
        "## Feature Extraction"
      ]
    },
    {
      "cell_type": "code",
      "metadata": {
        "id": "fadneckj95-Z"
      },
      "source": [
        "def extract_features(X: pd.DataFrame):\n",
        "  features = ts.extract_features(\n",
        "          X.drop([\"Weight, IsDoublePassenger\"]),\n",
        "          column_id=\"id\",\n",
        "          column_sort=\"Timestamp\",\n",
        "      )\n",
        "  features[\"Weight\"] = X[\"Weight\"].values\n",
        "  features[\"IsDoublePassenger\"] = X[\"IsDoublePassenger\"].values\n",
        "  return features"
      ],
      "execution_count": 8,
      "outputs": []
    },
    {
      "cell_type": "markdown",
      "metadata": {
        "id": "kLRlMgWB_-R_"
      },
      "source": [
        "## Feature Selection"
      ]
    },
    {
      "cell_type": "code",
      "metadata": {
        "id": "oJ07ehYrAHhL"
      },
      "source": [
        "def select_features(X: pd.DataFrame):\n",
        "  weight_series = pd.Series()\n",
        "  passenger_series = pd.Series()\n",
        "  for df in [x for _, x in X.groupby([\"id\"])]:\n",
        "    weight_series.loc[i] = x[\"Weight\"][0]\n",
        "    passenger_series.loc[i] = x[\"IsDoublePassenger\"][0]\n",
        "  features = X.drop(\"Weight\", \"IsDoublePassenger\")\n",
        "  weight_features = ts.select_features(features, weight_series))\n",
        "  passenger_features = ts.select_features(features, passenger_series)\n",
        "  weight_features = weight_features.add_prefix(\"weight_\")\n",
        "  passenger_features = passenger_features.add_prefix(\"passengers_\")\n",
        "  return weight_features.join(passenger_features, on=\"id\")"
      ],
      "execution_count": null,
      "outputs": []
    },
    {
      "cell_type": "markdown",
      "metadata": {
        "id": "5L77MwDC-e0h"
      },
      "source": [
        "## Analysis Pipeline"
      ]
    },
    {
      "cell_type": "code",
      "metadata": {
        "id": "6wVglUMM-hkx"
      },
      "source": [
        "pipeline = sk.pipeline.Pipeline([(\"simplify_paths\", sk.preprocessing.FunctionTransformer(simplify_path, epsilon=1e-6)), (\"window\", sk.preprocessing.FunctionTransformer(window, min_timeshift=0, max_timeshift=10)), (\"extract_features\", sk.preprocessing.FunctionTransformer(extract_features)), (\"select_features\", sk.preprocessing.FunctionTransformer(select_features))])"
      ],
      "execution_count": null,
      "outputs": []
    }
  ]
}